{
 "metadata": {
  "name": "dynmodes"
 },
 "nbformat": 3,
 "nbformat_minor": 0,
 "worksheets": [
  {
   "cells": [
    {
     "cell_type": "markdown",
     "metadata": {},
     "source": [
      "# Calculation of Vertical Dynamic Ocean Modes #\n",
      "\n",
      "Based on http://woodshole.er.usgs.gov/operations/sea-mat/klinck-html/dynmodes.html\n",
      "by John Klinck, 1999."
     ]
    },
    {
     "cell_type": "code",
     "collapsed": false,
     "input": [
      "import numpy as np\n",
      "import scipy.linalg\n",
      "import matplotlib.pyplot as plt"
     ],
     "language": "python",
     "metadata": {},
     "outputs": [],
     "prompt_number": 225
    },
    {
     "cell_type": "markdown",
     "metadata": {},
     "source": [
      "Inputs:\n",
      "\n",
      "* Nsq = column vector of Brunt-Vaisala buoyancy frequency $[s^{-2}]$\n",
      "* depth = column vector of pressure $[decibars]$\n",
      "* nmodes = number of vertical modes to calculate \n",
      "\n",
      "Outputs:\n",
      "\n",
      "* wmodes = vertical velocity structure\n",
      "* pmodes = horizontal velocity structure\n",
      "* ce = modal speed $[m / s]$"
     ]
    },
    {
     "cell_type": "markdown",
     "metadata": {},
     "source": [
      "We're doing a numerical solution of the generalized eigenvalue problem expressed by:\n",
      "\n",
      "$$\\frac{\\partial^2}{\\partial z^2} w_m + \\alpha^2 N^2 w_m = 0$$\n",
      "\n",
      "or\n",
      "\n",
      "$$\\nabla^2 w_m + \\alpha^2 N^2 w_m = 0$$\n",
      "\n",
      "with $w_m = 0$ at the surface and the bottom.\n",
      "\n",
      "The first step is to build a matrix that discretizes $\\nabla^2$ over the depth domain,\n",
      "and includes the boundary condtions:"
     ]
    },
    {
     "cell_type": "code",
     "collapsed": false,
     "input": [
      "def build_delsq_matrix(depth):\n",
      "    \"\"\"Build the matrix that discretized del-squared over the depth,\n",
      "    and applies the boundary conditions.\n",
      "\n",
      "    TODO: handle case where surface values are not specified\n",
      "    \"\"\"\n",
      "    zed = -depth\n",
      "    # Depth steps\n",
      "    nz = zed.size\n",
      "    dz = zed[:nz - 1] - zed[1:]\n",
      "    # Depth step midpoints\n",
      "    z_mid = zed[:nz - 1] - 0.5 * dz[:nz - 1]\n",
      "    # Depth step midpoint steps\n",
      "    dz_mid = np.zeros_like(zed)\n",
      "    dz_mid[1:dz_mid.size - 1] = z_mid[:nz - 2] - z_mid[1:nz - 1]\n",
      "    dz_mid[0] = dz_mid[1]\n",
      "    dz_mid[dz_mid.size - 1] = dz_mid[dz_mid.size - 2]\n",
      "    # del-squared matrix plus boundary conditions\n",
      "    delsq = np.zeros((nz, nz))\n",
      "    diag_index = np.arange(1, nz - 1)\n",
      "    delsq[diag_index, diag_index] = (\n",
      "        1 / (dz[:nz - 2] * dz_mid[1:nz - 1]) + 1 / (dz[1:nz - 1] * dz_mid[1:nz - 1]))\n",
      "    diag_index_p1 = np.arange(2, nz)\n",
      "    delsq[diag_index, diag_index_p1] = -1 / (dz[:nz - 2] * dz_mid[1:nz - 1])\n",
      "    diag_index_m1 = np.arange(nz - 2)\n",
      "    delsq[diag_index, diag_index_m1] = -1 / (dz[1:nz - 1] * dz_mid[1:nz - 1])\n",
      "    # Boundary conditions\n",
      "    delsq[0, 0] = delsq[nz - 1, 0] = -1\n",
      "    return delsq, nz, dz"
     ],
     "language": "python",
     "metadata": {},
     "outputs": [],
     "prompt_number": 295
    },
    {
     "cell_type": "markdown",
     "metadata": {},
     "source": [
      "Once the eigenvalues and modes have been calculated,\n",
      "we need to clean up numerical artifacts:\n",
      "\n",
      "* exclude complex-valued (non-physical) eigenvalues and their corresponding modes\n",
      "* exclude near-zero and negative eigenvalues and their corresponding modes\n",
      "\n",
      "Finally,\n",
      "we sort the eigenvalues and modes by increasing eigenvalue magnitude,\n",
      "and we truncate the set to the number of modes that were requested for the calculation."
     ]
    },
    {
     "cell_type": "code",
     "collapsed": false,
     "input": [
      "def clean_up_modes(eigenvalues, wmodes, nmodes):\n",
      "    \"\"\"Exclude complex-valued and near-zero/negative eigenvalues and their modes.\n",
      "    Sort the eigenvalues and mode by increasing eigenvalue magnitude,\n",
      "    and truncate the results to the number of modes that were requested.\n",
      "    \"\"\"\n",
      "    # Transpose modes to that they can be handled as an array of vectors\n",
      "    wmodes = wmodes.transpose()\n",
      "    # Filter out complex-values and small/negative eigenvalues and corresponding modes\n",
      "    mask = np.imag(eigenvalues) == 0\n",
      "    eigenvalues = eigenvalues[mask]\n",
      "    wmodes = wmodes[mask]\n",
      "    mask = eigenvalues >= 1e-10\n",
      "    eigenvalues = eigenvalues[mask]\n",
      "    wmodes = wmodes[mask]\n",
      "    # Sort eigenvalues and modes and truncate to number of modes requests\n",
      "    index = np.argsort(eigenvalues)\n",
      "    eigenvalues = eigenvalues[index[:nmodes]]\n",
      "    wmodes = wmodes[index[:nmodes]]\n",
      "    return eigenvalues, wmodes"
     ],
     "language": "python",
     "metadata": {},
     "outputs": []
    },
    {
     "cell_type": "markdown",
     "metadata": {},
     "source": [
      "Now,\n",
      "we put everythng together:\n",
      "\n",
      "* build the del-squared matrix\n",
      "* solve the generalized eigenvalue problem\n",
      "* clean up the eigenvalue and vertical mode results\n",
      "* calculate the modal speeds\n",
      "* calculate the horizontal modes by differention of the vertical modes"
     ]
    },
    {
     "cell_type": "code",
     "collapsed": false,
     "input": [
      "def dynmodes(Nsq, depth, nmodes, rho0=1028):\n",
      "    \"\"\"Calculate ocean dynamic vertical modes\n",
      "    taking a column vector of Brunt-Vaisala values (Nsq) at\n",
      "    different depths (depth) and calculating some number of \n",
      "    dynamic modes (nmodes).\n",
      "\n",
      "    Based on http://woodshole.er.usgs.gov/operations/sea-mat/klinck-html/dynmodes.html\n",
      "    by John Klinck, 1999.\n",
      "    \"\"\"\n",
      "    # del-squared matrix plus boundary conditions\n",
      "    delsq, nz, dz = build_delsq_matrix(depth)\n",
      "    # N-squared diagonal matrix\n",
      "    Nsq_mat = np.identity(nz) * Nsq\n",
      "    # Solve generalized eigenvalue problem for eigenvalues and vertical velocity modes\n",
      "    eigenvalues, wmodes = scipy.linalg.eig(delsq, Nsq_mat)\n",
      "    eigenvalues, wmodes = clean_up_modes(eigenvalues, wmodes, nmodes)\n",
      "    # Modal speeds\n",
      "    ce = np.real(1 / np.sqrt(eigenvalues))\n",
      "    # Horizontal velocity modes\n",
      "    pmodes = np.zeros_like(wmodes)\n",
      "    # 1st derivative of vertical modes\n",
      "    pr = np.diff(wmodes)* rho0 * (ce ** 2).reshape(-1, 1) / dz\n",
      "    # Linear interpolation depth grid\n",
      "    pmodes[:, 1:nz - 1] = (pr[:, 1:nz - 1] + pr[:, :nz - 2]) / 2\n",
      "    pmodes[:, 0] = pr[:, 0]\n",
      "    pmodes[:, nz - 1] = pr[:, nz - 2]\n",
      "    return wmodes, pmodes, ce"
     ],
     "language": "python",
     "metadata": {},
     "outputs": []
    },
    {
     "cell_type": "markdown",
     "metadata": {},
     "source": [
      "# Test Case #1 #\n",
      "Unit depth and uniform, unit $N^2$\n",
      "\n",
      "Analytical solution is:\n",
      "$$h = h_o \\sin(\\frac{z}{ce})$$\n",
      "where\n",
      "$$ce = \\frac{1}{n \\pi}$$"
     ]
    },
    {
     "cell_type": "code",
     "collapsed": false,
     "input": [
      "depth = np.arange(0, 1.05, 0.05)\n",
      "Nsq = np.ones_like(depth)\n",
      "wmodes, pmodes, ce = dynmodes(Nsq, depth, 3)\n",
      "print ce"
     ],
     "language": "python",
     "metadata": {},
     "outputs": [
      {
       "output_type": "stream",
       "stream": "stdout",
       "text": [
        "[ 0.31863737  0.15981133  0.10709144]\n"
       ]
      }
     ],
     "prompt_number": 296
    },
    {
     "cell_type": "code",
     "collapsed": false,
     "input": [
      "const = 1 / np.pi\n",
      "analytical = np.array((const, const / 2, const / 3))\n",
      "print analytical"
     ],
     "language": "python",
     "metadata": {},
     "outputs": [
      {
       "output_type": "stream",
       "stream": "stdout",
       "text": [
        "[ 0.31830989  0.15915494  0.1061033 ]\n"
       ]
      }
     ],
     "prompt_number": 297
    },
    {
     "cell_type": "code",
     "collapsed": false,
     "input": [
      "def plot_wmodes(wmodes, depth):\n",
      "    fig = plt.figure()\n",
      "    ax = fig.add_subplot(111)\n",
      "    for i in xrange(3):\n",
      "        ax.plot(wmodes[i], -depth, label='mode {}'.format(i))\n",
      "    ax.set_ylabel('Depth')\n",
      "    ax.legend()\n",
      "    \n",
      "plot_wmodes(wmodes, depth)"
     ],
     "language": "python",
     "metadata": {},
     "outputs": [
      {
       "output_type": "display_data",
       "png": "[encoded data removed]"
      }
     ],
     "prompt_number": 298
    },
    {
     "cell_type": "markdown",
     "metadata": {},
     "source": [
      "# Test Case #2 #\n",
      "400 m depth at 10 m intervals\n",
      "\n",
      "Uniform $N^2 = 1 \\times 10^{-6}$\n",
      "\n",
      "Analytical solution is:\n",
      "$$h = h_o \\sin(\\frac{N_o z}{ce})$$\n",
      "where\n",
      "$$ce = \\frac{N_o H}{n \\pi}, N_o = 1 \\times 10^{-3}, H = 400$$"
     ]
    },
    {
     "cell_type": "code",
     "collapsed": false,
     "input": [
      "depth = np.linspace(0, 400., 41)\n",
      "Nsq = np.ones_like(depth) * 1e-6\n",
      "wmodes, pmodes, ce = dynmodes(Nsq, depth, 3)\n",
      "print ce"
     ],
     "language": "python",
     "metadata": {},
     "outputs": [
      {
       "output_type": "stream",
       "stream": "stdout",
       "text": [
        "[ 0.12735669  0.06372747  0.04253965]\n"
       ]
      }
     ],
     "prompt_number": 277
    },
    {
     "cell_type": "code",
     "collapsed": false,
     "input": [
      "const = 1e-3 * 400 / np.pi\n",
      "analytical = np.array((const, const / 2, const / 3))\n",
      "print analytical"
     ],
     "language": "python",
     "metadata": {},
     "outputs": [
      {
       "output_type": "stream",
       "stream": "stdout",
       "text": [
        "[ 0.12732395  0.06366198  0.04244132]\n"
       ]
      }
     ],
     "prompt_number": 278
    },
    {
     "cell_type": "code",
     "collapsed": false,
     "input": [
      "plot_wmodes(wmodes, depth)"
     ],
     "language": "python",
     "metadata": {},
     "outputs": [
      {
       "output_type": "display_data",
       "png": "[encoded data removed]"
      }
     ],
     "prompt_number": 279
    },
    {
     "cell_type": "code",
     "collapsed": false,
     "input": [],
     "language": "python",
     "metadata": {},
     "outputs": []
    }
   ],
   "metadata": {}
  }
 ]
}