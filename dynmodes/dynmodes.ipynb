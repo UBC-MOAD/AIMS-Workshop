{
 "metadata": {
  "name": "dynmodes"
 },
 "nbformat": 3,
 "nbformat_minor": 0,
 "worksheets": [
  {
   "cells": [
    {
     "cell_type": "markdown",
     "metadata": {},
     "source": [
      "# Calculation of Vertical Dynamic Ocean Modes #\n",
      "\n",
      "Based on http://woodshole.er.usgs.gov/operations/sea-mat/klinck-html/dynmodes.html\n",
      "by John Klinck, 1999."
     ]
    },
    {
     "cell_type": "markdown",
     "metadata": {},
     "source": [
      "The goal is to create a Python function that calculates numerical solutions of the generalized eigenvalue problem expressed by:\n",
      "\n",
      "$$\\frac{\\partial^2}{\\partial z^2} w_m + \\alpha^2 N^2 w_m = 0$$\n",
      "\n",
      "with boundary conditions of $w_m = 0$ at the surface and the bottom.\n",
      "\n",
      "Variables:\n",
      "\n",
      "* $z$ is the vertical coordinate, measured in $[m]$\n",
      "* $w_m$ are the vertical velocity modes\n",
      "* $N^2$ is a profile of Brunt-Vaisala buoyancy frequencies $[s^{-2}]$\n",
      "* $\\alpha^2$ are the eigenvalues"
     ]
    },
    {
     "cell_type": "markdown",
     "metadata": {},
     "source": [
      "The inputs to our Python function will be:\n",
      "\n",
      "* `Nsq`: an array of Brunt-Vaisala buoyancy frequencies $[s^{-2}]$ ; i.e. $N^2$\n",
      "* `depth`: an array of depths $[m]$ that will be used as the vertical coordinates; i.e. $z$\n",
      "* `nmodes`: number of vertical modes to calculate \n",
      "\n",
      "The outputs will be:\n",
      "\n",
      "* `wmodes`: the array of vertical velocity modes; i.e. $w_m$\n",
      "* `pmodes`: the array of horizontal velocity modes\n",
      "* `rmodes`: the array of vertical density modes\n",
      "* `ce`: the array of modal wave speeds $[m / s]$"
     ]
    },
    {
     "cell_type": "markdown",
     "metadata": {},
     "source": [
      "We start by importing the Python libraries that we need to do the calculation:\n",
      "\n",
      "* `numpy` is a high performance N-dimensional array library ([http://www.numpy.org/]())\n",
      "* `scipy.linalg` is the SciPy linear algebra package that includes a generalized eigen-solver\n",
      "  ([http://docs.scipy.org/doc/scipy/reference/tutorial/linalg.html]())\n",
      "* `matplotlib.pyplot` is a MATLAB-like plotting framework ([http://matplotlib.org/]())"
     ]
    },
    {
     "cell_type": "code",
     "collapsed": false,
     "input": [
      "import numpy as np\n",
      "import scipy.linalg\n",
      "import matplotlib.pyplot as plt"
     ],
     "language": "python",
     "metadata": {},
     "outputs": [],
     "prompt_number": 383
    },
    {
     "cell_type": "markdown",
     "metadata": {},
     "source": [
      "We going to break the implementation into 3 functions to improve readability and testability of the code.\n",
      "First:\n",
      "\n",
      "`build_d2dz_matrix`: \n",
      "\n",
      "  * build the matrix that discretized $\\frac{\\partial^2}{\\partial z^2}$ over the vertical coordinate,\n",
      "    and applies the boundary conditions"
     ]
    },
    {
     "cell_type": "code",
     "collapsed": false,
     "input": [
      "def build_d2dz2_matrix(depth):\n",
      "    \"\"\"Build the matrix that discretizes the 2nd derivative\n",
      "    over the vertical coordinate, and applies the boundary conditions.\n",
      "\n",
      "    TODO: handle case where surface values are not specified\n",
      "    \"\"\"\n",
      "    zed = -depth\n",
      "    # Number and size (in [m]) of vertical coordinate grid steps\n",
      "    nz = zed.size\n",
      "    dz = zed[:nz - 1] - zed[1:]\n",
      "    # Grid step midpoints\n",
      "    z_mid = zed[:nz - 1] - 0.5 * dz[:nz - 1]\n",
      "    # Size of steps between grid step midpoints\n",
      "    dz_mid = np.zeros_like(zed)\n",
      "    dz_mid[1:dz_mid.size - 1] = z_mid[:nz - 2] - z_mid[1:nz - 1]\n",
      "    dz_mid[0] = dz_mid[1]\n",
      "    dz_mid[dz_mid.size - 1] = dz_mid[dz_mid.size - 2]\n",
      "    # 2nd derivative matrix matrix\n",
      "    d2dz2 = np.zeros((nz, nz))\n",
      "    # Elements on the diagonal\n",
      "    diag_index = np.arange(1, nz - 1)\n",
      "    d2dz2[diag_index, diag_index] = (\n",
      "        1 / (dz[:nz - 2] * dz_mid[1:nz - 1]) + 1 / (dz[1:nz - 1] * dz_mid[1:nz - 1]))\n",
      "    # Elements on the super-diagonal\n",
      "    diag_index_p1 = np.arange(2, nz)\n",
      "    d2dz2[diag_index, diag_index_p1] = -1 / (dz[:nz - 2] * dz_mid[1:nz - 1])\n",
      "    # Elements on the sub-diagonal\n",
      "    diag_index_m1 = np.arange(nz - 2)\n",
      "    d2dz2[diag_index, diag_index_m1] = -1 / (dz[1:nz - 1] * dz_mid[1:nz - 1])\n",
      "    # Boundary conditions\n",
      "    d2dz2[0, 0] = d2dz2[nz - 1, 0] = -1\n",
      "    return d2dz2, nz, dz"
     ],
     "language": "python",
     "metadata": {},
     "outputs": [],
     "prompt_number": 384
    },
    {
     "cell_type": "markdown",
     "metadata": {},
     "source": [
      "Once the eigenvalues and modes have been calculated,\n",
      "we need to clean up numerical artifacts,\n",
      "and prepare the eigenvalues and modes to be output:\n",
      "\n",
      "`clean_up_modes`:\n",
      "\n",
      "  * exclude complex-valued (non-physical) eigenvalues and their corresponding modes\n",
      "  * exclude near-zero and negative eigenvalues and their corresponding modes\n",
      "  * sort the eigenvalues and modes by increasing eigenvalue magnitude\n",
      "  * truncate the set to the number of modes that were requested for the calculation."
     ]
    },
    {
     "cell_type": "code",
     "collapsed": false,
     "input": [
      "def clean_up_modes(eigenvalues, wmodes, nmodes):\n",
      "    \"\"\"Exclude complex-valued and near-zero/negative eigenvalues and their modes.\n",
      "    Sort the eigenvalues and mode by increasing eigenvalue magnitude,\n",
      "    and truncate the results to the number of modes that were requested.\n",
      "    \"\"\"\n",
      "    # Transpose modes to that they can be handled as an array of vectors\n",
      "    wmodes = wmodes.transpose()\n",
      "    # Filter out complex-values and small/negative eigenvalues and corresponding modes\n",
      "    mask = np.imag(eigenvalues) == 0\n",
      "    eigenvalues = eigenvalues[mask]\n",
      "    wmodes = wmodes[mask]\n",
      "    mask = eigenvalues >= 1e-10\n",
      "    eigenvalues = eigenvalues[mask]\n",
      "    wmodes = wmodes[mask]\n",
      "    # Sort eigenvalues and modes and truncate to number of modes requests\n",
      "    index = np.argsort(eigenvalues)\n",
      "    eigenvalues = eigenvalues[index[:nmodes]]\n",
      "    wmodes = wmodes[index[:nmodes]]\n",
      "    return eigenvalues, wmodes"
     ],
     "language": "python",
     "metadata": {},
     "outputs": [],
     "prompt_number": 385
    },
    {
     "cell_type": "markdown",
     "metadata": {},
     "source": [
      "Finally,\n",
      "we put everythng together:\n",
      "\n",
      "`dynmodes`:\n",
      "\n",
      "  * build the del-squared matrix\n",
      "  * solve the generalized eigenvalue problem\n",
      "  * clean up the eigenvalue and vertical mode results\n",
      "  * calculate the modal speeds\n",
      "  * calculate the horizontal modes by differention of the vertical modes"
     ]
    },
    {
     "cell_type": "code",
     "collapsed": false,
     "input": [
      "def dynmodes(Nsq, depth, nmodes):\n",
      "    \"\"\"Calculate ocean dynamic vertical modes\n",
      "    taking a column vector of Brunt-Vaisala values (Nsq) at\n",
      "    different depths (depth) and calculating some number of \n",
      "    dynamic modes (nmodes).\n",
      "\n",
      "    Based on http://woodshole.er.usgs.gov/operations/sea-mat/klinck-html/dynmodes.html\n",
      "    by John Klinck, 1999.\n",
      "    \"\"\"\n",
      "    # 2nd derivative matrix plus boundary conditions\n",
      "    d2dz2, nz, dz = build_d2dz2_matrix(depth)\n",
      "    # N-squared diagonal matrix\n",
      "    Nsq_mat = np.identity(nz) * Nsq\n",
      "    # Solve generalized eigenvalue problem for eigenvalues and vertical velocity modes\n",
      "    eigenvalues, wmodes = scipy.linalg.eig(d2dz2, Nsq_mat)\n",
      "    eigenvalues, wmodes = clean_up_modes(eigenvalues, wmodes, nmodes)\n",
      "    # Vertical density modes\n",
      "    rmodes = wmodes * Nsq\n",
      "    # Modal speeds\n",
      "    ce = np.real(1 / np.sqrt(eigenvalues))\n",
      "    # Horizontal velocity modes\n",
      "    pmodes = np.zeros_like(wmodes)\n",
      "    # 1st derivative of vertical modes\n",
      "    pr = np.diff(wmodes) / dz\n",
      "    # Linear interpolation on to the vertical coordinate grid\n",
      "    pmodes[:, 1:nz - 1] = (pr[:, 1:nz - 1] + pr[:, :nz - 2]) / 2\n",
      "    pmodes[:, 0] = pr[:, 0]\n",
      "    pmodes[:, nz - 1] = pr[:, nz - 2]\n",
      "    return wmodes, pmodes, rmodes, ce"
     ],
     "language": "python",
     "metadata": {},
     "outputs": [],
     "prompt_number": 386
    },
    {
     "cell_type": "markdown",
     "metadata": {},
     "source": [
      "# Test Case #1 #\n",
      "Unit depth and uniform, unit $N^2$\n",
      "\n",
      "Analytical solution is:\n",
      "$$w_m = w_o \\sin(\\frac{z}{ce})$$\n",
      "where\n",
      "$$ce = \\frac{1}{n \\pi}$$\n",
      "\n",
      "and $w_o$ is an arbitrary constant, taken as 1"
     ]
    },
    {
     "cell_type": "code",
     "collapsed": false,
     "input": [
      "depth = np.arange(0, 1.05, 0.05)\n",
      "Nsq = np.ones_like(depth)\n",
      "wmodes, pmodes, rmodes, ce = dynmodes(Nsq, depth, 3)\n",
      "print ce"
     ],
     "language": "python",
     "metadata": {},
     "outputs": [
      {
       "output_type": "stream",
       "stream": "stdout",
       "text": [
        "[ 0.31863737  0.15981133  0.10709144]\n"
       ]
      }
     ],
     "prompt_number": 387
    },
    {
     "cell_type": "code",
     "collapsed": false,
     "input": [
      "const = 1 / np.pi\n",
      "analytical = np.array((const, const / 2, const / 3))\n",
      "print analytical"
     ],
     "language": "python",
     "metadata": {},
     "outputs": [
      {
       "output_type": "stream",
       "stream": "stdout",
       "text": [
        "[ 0.31830989  0.15915494  0.1061033 ]\n"
       ]
      }
     ],
     "prompt_number": 388
    },
    {
     "cell_type": "code",
     "collapsed": false,
     "input": [
      "def plot_modes(modes, depth):\n",
      "    fig = plt.figure()\n",
      "    ax = fig.add_subplot(111)\n",
      "    for i in xrange(3):\n",
      "        ax.plot(modes[i], -depth, label='mode {}'.format(i))\n",
      "    ax.set_ylabel('z')\n",
      "    ax.legend()\n",
      "    \n",
      "plot_modes(wmodes, depth)"
     ],
     "language": "python",
     "metadata": {},
     "outputs": [
      {
       "output_type": "display_data",
       "png": "[encoded data removed]"
      }
     ],
     "prompt_number": 389
    },
    {
     "cell_type": "markdown",
     "metadata": {},
     "source": [
      "# Test Case #2 #\n",
      "400 m depth at 10 m intervals\n",
      "\n",
      "Uniform $N^2 = 1 \\times 10^{-6} \\ s^{-2}$\n",
      "\n",
      "Analytical solution is:\n",
      "$$w_m = w_o \\sin(\\frac{N z}{ce})$$\n",
      "where\n",
      "$$ce = \\frac{N H}{n \\pi}, N = 1 \\times 10^{-3} \\ s_{-2}, H = 400 \\ m$$"
     ]
    },
    {
     "cell_type": "code",
     "collapsed": false,
     "input": [
      "depth = np.linspace(0, 400., 41)\n",
      "Nsq = np.ones_like(depth) * 1e-6\n",
      "wmodes, pmodes, rmodes, ce = dynmodes(Nsq, depth, 3)\n",
      "print ce"
     ],
     "language": "python",
     "metadata": {},
     "outputs": [
      {
       "output_type": "stream",
       "stream": "stdout",
       "text": [
        "[ 0.12735669  0.06372747  0.04253965]\n"
       ]
      }
     ],
     "prompt_number": 390
    },
    {
     "cell_type": "code",
     "collapsed": false,
     "input": [
      "const = 1e-3 * 400 / np.pi\n",
      "analytical = np.array((const, const / 2, const / 3))\n",
      "print analytical"
     ],
     "language": "python",
     "metadata": {},
     "outputs": [
      {
       "output_type": "stream",
       "stream": "stdout",
       "text": [
        "[ 0.12732395  0.06366198  0.04244132]\n"
       ]
      }
     ],
     "prompt_number": 391
    },
    {
     "cell_type": "code",
     "collapsed": false,
     "input": [
      "plot_modes(pmodes, depth)"
     ],
     "language": "python",
     "metadata": {},
     "outputs": [
      {
       "output_type": "display_data",
       "png": "[encoded data removed]"
      }
     ],
     "prompt_number": 392
    },
    {
     "cell_type": "markdown",
     "metadata": {},
     "source": [
      "# Exercise #"
     ]
    },
    {
     "cell_type": "markdown",
     "metadata": {},
     "source": [
      "Here's a convenience function that calculates the $N^2$ profile for a given density profile:"
     ]
    },
    {
     "cell_type": "code",
     "collapsed": false,
     "input": [
      "def density2Nsq(density, depth, rho0=1028):\n",
      "    \"\"\"Return the Brunt-Vaisala buoyancy frequency (Nsq) profile\n",
      "    corresponding to the given density profile.\n",
      "    \"\"\"\n",
      "    grav_acc = 9.8  # m / s^2\n",
      "    Nsq = np.diff(density) * grav_acc / (np.diff(depth) * rho0)\n",
      "    return Nsq"
     ],
     "language": "python",
     "metadata": {},
     "outputs": [],
     "prompt_number": 392
    },
    {
     "cell_type": "code",
     "collapsed": false,
     "input": [],
     "language": "python",
     "metadata": {},
     "outputs": []
    },
    {
     "cell_type": "markdown",
     "metadata": {},
     "source": [
      "# Unit Tests #"
     ]
    },
    {
     "cell_type": "code",
     "collapsed": false,
     "input": [
      "def test_build_d2dz2_matrix_n_steps():\n",
      "    \"\"\"build_d2dz2_matrix returns number of vertical coordinate grid steps\n",
      "    \"\"\"\n",
      "    depth = np.linspace(0, 1, 3)\n",
      "    d2dz2, nz, dz = build_d2dz2_matrix(depth)\n",
      "    assert nz == 3\n",
      "    "
     ],
     "language": "python",
     "metadata": {},
     "outputs": [],
     "prompt_number": 393
    },
    {
     "cell_type": "markdown",
     "metadata": {},
     "source": [
      "Run the test suite:"
     ]
    },
    {
     "cell_type": "code",
     "collapsed": false,
     "input": [
      "test_build_d2dz2_matrix_n_steps()"
     ],
     "language": "python",
     "metadata": {},
     "outputs": [],
     "prompt_number": 394
    },
    {
     "cell_type": "code",
     "collapsed": false,
     "input": [],
     "language": "python",
     "metadata": {},
     "outputs": [],
     "prompt_number": 394
    }
   ],
   "metadata": {}
  }
 ]
}