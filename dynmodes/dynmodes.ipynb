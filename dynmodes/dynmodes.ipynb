{
 "metadata": {
  "name": "dynmodes"
 },
 "nbformat": 3,
 "nbformat_minor": 0,
 "worksheets": [
  {
   "cells": [
    {
     "cell_type": "markdown",
     "metadata": {},
     "source": [
      "# Calculation of Vertical Dynamic Ocean Modes #\n",
      "\n",
      "Based on http://woodshole.er.usgs.gov/operations/sea-mat/klinck-html/dynmodes.html\n",
      "by John Klinck, 1999."
     ]
    },
    {
     "cell_type": "markdown",
     "metadata": {},
     "source": [
      "The goal is to create a Python function that calculates numerical solutions of the generalized eigenvalue problem expressed by:\n",
      "\n",
      "$$\\frac{\\partial^2}{\\partial z^2} w_m + \\alpha^2 N^2 w_m = 0$$\n",
      "\n",
      "with boundary conditions of $w_m = 0$ at the surface and the bottom.\n",
      "\n",
      "Variables:\n",
      "\n",
      "* $z$ is the vertical coordinate, measured in $[m]$\n",
      "* $w_m$ are the vertical velocity modes\n",
      "* $N^2$ is a profile of Brunt-Vaisala buoyancy frequencies $[s^{-2}]$\n",
      "* $\\alpha^2$ are the eigenvalues"
     ]
    },
    {
     "cell_type": "markdown",
     "metadata": {},
     "source": [
      "The inputs to our Python function will be:\n",
      "\n",
      "* `Nsq`: an array of Brunt-Vaisala buoyancy frequencies $[s^{-2}]$ ; i.e. $N^2$\n",
      "* `depth`: an array of depths $[m]$ that will be used as the vertical coordinates; i.e. $z$\n",
      "* `nmodes`: number of vertical modes to calculate \n",
      "\n",
      "The outputs will be:\n",
      "\n",
      "* `wmodes`: the array of vertical velocity modes; i.e. $w_m$\n",
      "* `pmodes`: the array of horizontal velocity modes\n",
      "* `rmodes`: the array of vertical density modes\n",
      "* `ce`: the array of modal wave speeds $[m / s]$"
     ]
    },
    {
     "cell_type": "markdown",
     "metadata": {},
     "source": [
      "We start by importing the Python libraries that we need to do the calculation:\n",
      "\n",
      "* `numpy` is a high performance N-dimensional array library ([http://www.numpy.org/]())\n",
      "* `scipy.linalg` is the SciPy linear algebra package that includes a generalized eigen-solver\n",
      "  ([http://docs.scipy.org/doc/scipy/reference/tutorial/linalg.html]())\n",
      "* `matplotlib.pyplot` is a MATLAB-like plotting framework ([http://matplotlib.org/]())"
     ]
    },
    {
     "cell_type": "code",
     "collapsed": false,
     "input": [
      "import numpy as np\n",
      "import scipy.linalg\n",
      "import matplotlib.pyplot as plt"
     ],
     "language": "python",
     "metadata": {},
     "outputs": []
    },
    {
     "cell_type": "markdown",
     "metadata": {},
     "source": [
      "We going to break the implementation into 3 functions to improve readability and testability of the code.\n",
      "First:\n",
      "\n",
      "`build_d2dz_matrix`: \n",
      "\n",
      "  * build the matrix that discretized $\\frac{\\partial^2}{\\partial z^2}$ over the vertical coordinate,\n",
      "    and applies the boundary conditions"
     ]
    },
    {
     "cell_type": "code",
     "collapsed": false,
     "input": [
      "def build_d2dz2_matrix(depth):\n",
      "    \"\"\"Build the matrix that discretizes the 2nd derivative\n",
      "    over the vertical coordinate, and applies the boundary conditions.\n",
      "    \"\"\"\n",
      "    zed = -depth\n",
      "    # Number and size (in [m]) of vertical coordinate grid steps\n",
      "    nz = zed.size\n",
      "    dz = zed[:nz - 1] - zed[1:]\n",
      "    # Grid step midpoints\n",
      "    z_mid = zed[:nz - 1] - 0.5 * dz[:nz - 1]\n",
      "    # Size of steps between grid step midpoints\n",
      "    dz_mid = np.zeros_like(zed)\n",
      "    dz_mid[1:dz_mid.size - 1] = z_mid[:nz - 2] - z_mid[1:nz - 1]\n",
      "    dz_mid[0] = dz_mid[1]\n",
      "    dz_mid[dz_mid.size - 1] = dz_mid[dz_mid.size - 2]\n",
      "    # 2nd derivative matrix matrix\n",
      "    d2dz2 = np.zeros((nz, nz))\n",
      "    # Elements on the diagonal\n",
      "    diag_index = np.arange(1, nz - 1)\n",
      "    d2dz2[diag_index, diag_index] = (\n",
      "        1 / (dz[:nz - 2] * dz_mid[1:nz - 1]) + 1 / (dz[1:nz - 1] * dz_mid[1:nz - 1]))\n",
      "    # Elements on the super-diagonal\n",
      "    diag_index_p1 = np.arange(2, nz)\n",
      "    d2dz2[diag_index, diag_index_p1] = -1 / (dz[:nz - 2] * dz_mid[1:nz - 1])\n",
      "    # Elements on the sub-diagonal\n",
      "    diag_index_m1 = np.arange(nz - 2)\n",
      "    d2dz2[diag_index, diag_index_m1] = -1 / (dz[1:nz - 1] * dz_mid[1:nz - 1])\n",
      "    # Boundary conditions\n",
      "    d2dz2[0, 0] = d2dz2[nz - 1, 0] = -1\n",
      "    return d2dz2, nz, dz"
     ],
     "language": "python",
     "metadata": {},
     "outputs": []
    },
    {
     "cell_type": "markdown",
     "metadata": {},
     "source": [
      "Once the eigenvalues and modes have been calculated,\n",
      "we need to clean up numerical artifacts,\n",
      "and prepare the eigenvalues and modes to be output:\n",
      "\n",
      "`clean_up_modes`:\n",
      "\n",
      "  * exclude complex-valued (non-physical) eigenvalues and their corresponding modes\n",
      "  * exclude near-zero and negative eigenvalues and their corresponding modes\n",
      "  * sort the eigenvalues and modes by increasing eigenvalue magnitude\n",
      "  * truncate the set to the number of modes that were requested for the calculation."
     ]
    },
    {
     "cell_type": "code",
     "collapsed": false,
     "input": [
      "def clean_up_modes(eigenvalues, wmodes, nmodes):\n",
      "    \"\"\"Exclude complex-valued and near-zero/negative eigenvalues and their modes.\n",
      "    Sort the eigenvalues and mode by increasing eigenvalue magnitude,\n",
      "    and truncate the results to the number of modes that were requested.\n",
      "    \"\"\"\n",
      "    # Transpose modes to that they can be handled as an array of vectors\n",
      "    wmodes = wmodes.transpose()\n",
      "    # Filter out complex-values and small/negative eigenvalues and corresponding modes\n",
      "    mask = np.imag(eigenvalues) == 0\n",
      "    eigenvalues = eigenvalues[mask]\n",
      "    wmodes = wmodes[mask]\n",
      "    mask = eigenvalues >= 1e-10\n",
      "    eigenvalues = eigenvalues[mask]\n",
      "    wmodes = wmodes[mask]\n",
      "    # Sort eigenvalues and modes and truncate to number of modes requests\n",
      "    index = np.argsort(eigenvalues)\n",
      "    eigenvalues = eigenvalues[index[:nmodes]]\n",
      "    wmodes = wmodes[index[:nmodes]]\n",
      "    return eigenvalues, wmodes"
     ],
     "language": "python",
     "metadata": {},
     "outputs": []
    },
    {
     "cell_type": "markdown",
     "metadata": {},
     "source": [
      "Finally,\n",
      "we put everythng together:\n",
      "\n",
      "`dynmodes`:\n",
      "\n",
      "  * build the del-squared matrix\n",
      "  * solve the generalized eigenvalue problem\n",
      "  * clean up the eigenvalue and vertical mode results\n",
      "  * calculate the modal speeds\n",
      "  * calculate the horizontal modes by differention of the vertical modes"
     ]
    },
    {
     "cell_type": "code",
     "collapsed": false,
     "input": [
      "def dynmodes(Nsq, depth, nmodes):\n",
      "    \"\"\"Calculate ocean dynamic vertical modes\n",
      "    taking a column vector of Brunt-Vaisala values (Nsq) at\n",
      "    different depths (depth) and calculating some number of \n",
      "    dynamic modes (nmodes).\n",
      "\n",
      "    Based on http://woodshole.er.usgs.gov/operations/sea-mat/klinck-html/dynmodes.html\n",
      "    by John Klinck, 1999.\n",
      "    \"\"\"\n",
      "    # 2nd derivative matrix plus boundary conditions\n",
      "    d2dz2, nz, dz = build_d2dz2_matrix(depth)\n",
      "    # N-squared diagonal matrix\n",
      "    Nsq_mat = np.identity(nz) * Nsq\n",
      "    # Solve generalized eigenvalue problem for eigenvalues and vertical velocity modes\n",
      "    eigenvalues, wmodes = scipy.linalg.eig(d2dz2, Nsq_mat)\n",
      "    eigenvalues, wmodes = clean_up_modes(eigenvalues, wmodes, nmodes)\n",
      "    # Vertical density modes\n",
      "    rmodes = wmodes * Nsq\n",
      "    # Modal speeds\n",
      "    ce = np.real(1 / np.sqrt(eigenvalues))\n",
      "    # Horizontal velocity modes\n",
      "    pmodes = np.zeros_like(wmodes)\n",
      "    # 1st derivative of vertical modes\n",
      "    pr = np.diff(wmodes) / dz\n",
      "    # Linear interpolation on to the vertical coordinate grid\n",
      "    pmodes[:, 1:nz - 1] = (pr[:, 1:nz - 1] + pr[:, :nz - 2]) / 2\n",
      "    pmodes[:, 0] = pr[:, 0]\n",
      "    pmodes[:, nz - 1] = pr[:, nz - 2]\n",
      "    return wmodes, pmodes, rmodes, ce"
     ],
     "language": "python",
     "metadata": {},
     "outputs": []
    },
    {
     "cell_type": "markdown",
     "metadata": {},
     "source": [
      "# Test Case #1 #\n",
      "Unit depth and uniform, unit $N^2$\n",
      "\n",
      "Analytical solution is:\n",
      "$$w_m = w_o \\sin(\\frac{z}{ce})$$\n",
      "where\n",
      "$$ce = \\frac{1}{n \\pi}$$\n",
      "\n",
      "and $w_o$ is an arbitrary constant, taken as 1"
     ]
    },
    {
     "cell_type": "code",
     "collapsed": false,
     "input": [
      "depth1 = np.arange(0, 1.05, 0.05)\n",
      "Nsq1 = np.ones_like(depth1)\n",
      "wmodes1, pmodes1, rmodes1, ce1 = dynmodes(Nsq1, depth1, 3)\n",
      "print ce1"
     ],
     "language": "python",
     "metadata": {},
     "outputs": []
    },
    {
     "cell_type": "code",
     "collapsed": false,
     "input": [
      "const = 1 / np.pi\n",
      "analytical = np.array((const, const / 2, const / 3))\n",
      "print analytical"
     ],
     "language": "python",
     "metadata": {},
     "outputs": []
    },
    {
     "cell_type": "markdown",
     "metadata": {},
     "source": [
      "Let's define a helper function to plot $N^2$ and the 3 sets of modes returned by `dynmodes`:"
     ]
    },
    {
     "cell_type": "code",
     "collapsed": false,
     "input": [
      "def plot_modes(Nsq, depth, nmodes, wmodes, pmodes, rmodes):\n",
      "    fig = plt.figure(figsize=(10, 10))\n",
      "    ax = fig.add_subplot(2, 2, 1)\n",
      "    # Nsq\n",
      "    ax.plot(Nsq, -depth)\n",
      "    ax.ticklabel_format(style='sci', scilimits=(2, 2), axis='x')\n",
      "    ax.set_ylabel('z')\n",
      "    ax.set_xlabel('N^2')\n",
      "    # modes\n",
      "    mode_sets = [\n",
      "      # (values, subplot number, x-axis title)\n",
      "        (wmodes, 2, 'wmodes'),\n",
      "        (pmodes, 3, 'pmodes'),\n",
      "        (rmodes, 4, 'rmodes'),\n",
      "    ]\n",
      "    for mode_set in mode_sets:\n",
      "        modes, subplot, title = mode_set\n",
      "        ax = fig.add_subplot(2, 2, subplot)\n",
      "        for i in xrange(nmodes):\n",
      "            ax.plot(modes[i], -depth, label='mode {}'.format(i))\n",
      "        ax.ticklabel_format(style='sci', scilimits=(3, 3), axis='x')\n",
      "        ax.set_ylabel('z')\n",
      "        ax.set_xlabel(title)\n",
      "        ax.legend()\n",
      "    "
     ],
     "language": "python",
     "metadata": {},
     "outputs": []
    },
    {
     "cell_type": "code",
     "collapsed": true,
     "input": [
      "plot_modes(Nsq1, depth1, 3, wmodes1, pmodes1, rmodes1)"
     ],
     "language": "python",
     "metadata": {},
     "outputs": []
    },
    {
     "cell_type": "markdown",
     "metadata": {},
     "source": [
      "# Test Case #2 #\n",
      "400 m depth at 10 m intervals\n",
      "\n",
      "Uniform $N^2 = 1 \\times 10^{-6} \\ s^{-2}$\n",
      "\n",
      "Analytical solution is:\n",
      "$$w_m = w_o \\sin(\\frac{N z}{ce})$$\n",
      "where\n",
      "$$ce = \\frac{N H}{n \\pi}, N = 1 \\times 10^{-3} \\ s_{-2}, H = 400 \\ m$$"
     ]
    },
    {
     "cell_type": "code",
     "collapsed": false,
     "input": [
      "depth2 = np.linspace(0, 400., 41)\n",
      "Nsq2 = np.ones_like(depth2) * 1e-6\n",
      "wmodes2, pmodes2, rmodes2, ce2 = dynmodes(Nsq2, depth2, 3)\n",
      "print ce2"
     ],
     "language": "python",
     "metadata": {},
     "outputs": []
    },
    {
     "cell_type": "code",
     "collapsed": false,
     "input": [
      "const = 1e-3 * 400 / np.pi\n",
      "analytical = np.array((const, const / 2, const / 3))\n",
      "print analytical"
     ],
     "language": "python",
     "metadata": {},
     "outputs": []
    },
    {
     "cell_type": "code",
     "collapsed": true,
     "input": [
      "plot_modes(Nsq2, depth2, 3, wmodes2, pmodes2, rmods2)"
     ],
     "language": "python",
     "metadata": {},
     "outputs": []
    },
    {
     "cell_type": "markdown",
     "metadata": {},
     "source": [
      "# Exercise #"
     ]
    },
    {
     "cell_type": "code",
     "collapsed": true,
     "input": [
      "from IPython.core.display import Image \n",
      "Image(filename='aims_allen_exercise_2.png')"
     ],
     "language": "python",
     "metadata": {},
     "outputs": []
    },
    {
     "cell_type": "markdown",
     "metadata": {},
     "source": [
      "There are a selection of density profile files:"
     ]
    },
    {
     "cell_type": "code",
     "collapsed": false,
     "input": [
      "ls *.dens"
     ],
     "language": "python",
     "metadata": {},
     "outputs": []
    },
    {
     "cell_type": "markdown",
     "metadata": {},
     "source": [
      "`SoG_S3.dens` is from the Strait of Georgia on the west coast of Canada\n",
      "\n",
      "`s105.dens` and `s109.dens` are from Florida Straits\n",
      "\n",
      "`so550.dens` is from the South Atlantic offshore of Cape Town"
     ]
    },
    {
     "cell_type": "markdown",
     "metadata": {},
     "source": [
      "This pair of functions will read a named file and return depth and density arrays:"
     ]
    },
    {
     "cell_type": "code",
     "collapsed": false,
     "input": [
      "def interesting_lines(f):\n",
      "    for line in f:\n",
      "        if line and not line.startswith('#'):\n",
      "            yield line\n",
      "\n",
      "def read_density_profile(filename):\n",
      "    \"\"\"Return depth and density arrays read from filename.\n",
      "    \"\"\"\n",
      "    depth = []\n",
      "    density = []\n",
      "    with open(filename) as f:\n",
      "        for line in interesting_lines(f):\n",
      "            deep, rho = map(float, line.split())\n",
      "            depth.append(deep)\n",
      "            density.append(rho)\n",
      "    return np.array(depth), np.array(density)"
     ],
     "language": "python",
     "metadata": {},
     "outputs": []
    },
    {
     "cell_type": "markdown",
     "metadata": {},
     "source": [
      "Here's a convenience function that calculates the $N^2$ profile for a given density profile:"
     ]
    },
    {
     "cell_type": "code",
     "collapsed": false,
     "input": [
      "def density2Nsq(depth, density, rho0=1028):\n",
      "    \"\"\"Return the Brunt-Vaisala buoyancy frequency (Nsq) profile\n",
      "    corresponding to the given density profile.\n",
      "    The surface Nsq value is set to the value of the 1st calculated value\n",
      "    below the surface.\n",
      "    Also return the depths for which the Brunt-Vaisala buoyancy frequencies\n",
      "    were calculated.\n",
      "    \"\"\"\n",
      "    grav_acc = 9.8  # m / s^2\n",
      "    Nsq = np.zeros_like(density)\n",
      "    Nsq[1:] = np.diff(density) * grav_acc / (np.diff(depth) * rho0)\n",
      "    Nsq[0] = Nsq[1]\n",
      "    Nsq[Nsq < 0] = 0\n",
      "    Nsq_depth = np.zeros_like(depth)\n",
      "    Nsq_depth[1:] = (depth[:depth.size - 1] + depth[1:]) / 2\n",
      "    return Nsq_depth, Nsq"
     ],
     "language": "python",
     "metadata": {},
     "outputs": []
    },
    {
     "cell_type": "markdown",
     "metadata": {},
     "source": [
      "# Unit Tests #"
     ]
    },
    {
     "cell_type": "code",
     "collapsed": false,
     "input": [
      "# Tests for build_d2dz2_matrix function\n",
      "def test_build_d2dz2_matrix_n_steps():\n",
      "    \"\"\"build_d2dz2_matrix returns number of vertical coordinate grid steps\n",
      "    \"\"\"\n",
      "    depth = np.linspace(0, 1, 3)\n",
      "    d2dz2, nz, dz = build_d2dz2_matrix(depth)\n",
      "    assert nz == 3\n",
      "    \n",
      "\n",
      "# Tests for depth2Nsq function\n",
      "def test_depth2Nsq_Nsq():\n",
      "    \"\"\"depth2Nsq returns expected Nsq array\n",
      "    \"\"\"\n",
      "    depth = np.linspace(1, 4, 4)\n",
      "    density = np.linspace(1028, 1031, 4)\n",
      "    Nsq_depth, Nsq = density2Nsq(depth, density)\n",
      "    np.testing.assert_equal(Nsq, np.array([9.8 / 1028] * 4))\n",
      "    \n",
      "def test_depth2Nsq_Nsq_depth():\n",
      "    \"\"\"depth2Nsq returns expected Nsq_depth array\n",
      "    \"\"\"\n",
      "    depth = np.linspace(1, 4, 4)\n",
      "    density = np.linspace(1028, 1031, 4)\n",
      "    Nsq_depth, Nsq = density2Nsq(depth, density)\n",
      "    np.testing.assert_equal(Nsq_depth, np.array([0, 1.5, 2.5, 3.5]))\n",
      "    \n",
      "def test_depth2Nsq_Nsq_no_neagative_values():\n",
      "    \"\"\"depth2Nsq clamps negative Nsq values to zero\n",
      "    \"\"\"\n",
      "    depth = np.linspace(1, 4, 4)\n",
      "    density = np.array([1028., 1029., 1030., 1029.])\n",
      "    Nsq_depth, Nsq = density2Nsq(depth, density)\n",
      "    np.testing.assert_equal(Nsq, np.array([9.8 / 1028] * 3 + [0]))"
     ],
     "language": "python",
     "metadata": {},
     "outputs": []
    },
    {
     "cell_type": "markdown",
     "metadata": {},
     "source": [
      "Run the test suite.\n",
      "\n",
      "All we're doing here is calling each test function.\n",
      "Success of the assertions in all tests will result in no output.\n",
      "A failed assertion will stop the execution of the cell and give\n",
      "us a traceback describing the failure.\n",
      "\n",
      "Try changing a value in one of the test assertions to see a failure.\n",
      "\n",
      "This is a \"quick and dirty\" way of running the test suite in the context\n",
      "of an iPython Notebook.\n",
      "It's not very robust because you have to remember to explicitly add a call \n",
      "for each test function.\n",
      "Nor is it as informative as it could be because it stops after the first\n",
      "test failure instead of telling us about all of the test failures.\n",
      "For Python code written in modules (in constrast to a Notebook) those\n",
      "shortcomings can be addressed by using a unit test framework such as:\n",
      "\n",
      "* the [(unittest module)] in the Python standard library\n",
      "* the [(py.test)] package\n",
      "* the [(nose)] package\n",
      "\n",
      "All of those frameworks provide automatic test discovery to avoid the explicit\n",
      "list of tests,\n",
      "and many options for more informative reporting of test results for both\n",
      "successful and failed tests."
     ]
    },
    {
     "cell_type": "code",
     "collapsed": false,
     "input": [
      "# build_d2dz2_matrix()\n",
      "test_build_d2dz2_matrix_n_steps()\n",
      "\n",
      "# depth2Nsq()\n",
      "test_depth2Nsq_Nsq()\n",
      "test_depth2Nsq_Nsq_depth()\n",
      "test_depth2Nsq_Nsq_no_neagative_values()\n",
      "\n",
      "print 'Congratulations! All tests passed.'"
     ],
     "language": "python",
     "metadata": {},
     "outputs": []
    },
    {
     "cell_type": "code",
     "collapsed": false,
     "input": [],
     "language": "python",
     "metadata": {},
     "outputs": []
    }
   ],
   "metadata": {}
  }
 ]
}